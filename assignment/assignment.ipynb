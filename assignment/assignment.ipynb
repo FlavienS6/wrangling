{
  "cells": [
    {
      "cell_type": "markdown",
      "id": "13ad028b-72b7-43ed-aa78-96fd4e518040",
      "metadata": {
        "id": "13ad028b-72b7-43ed-aa78-96fd4e518040"
      },
      "source": [
        "# Assignment: Data Wrangling\n",
        "## `! git clone https://github.com/DS3001/wrangling`"
      ]
    },
    {
      "cell_type": "markdown",
      "id": "5735a4d4-8be8-433a-a351-70eb8002e632",
      "metadata": {
        "id": "5735a4d4-8be8-433a-a351-70eb8002e632"
      },
      "source": [
        "**Q1.** Open the \"tidy_data.pdf\" document in the repo, which is a paper called Tidy Data by Hadley Wickham.\n",
        "\n",
        "  1. Read the abstract. What is this paper about?\n",
        "  2. Read the introduction. What is the \"tidy data standard\" intended to accomplish?\n",
        "  3. Read the intro to section 2. What does this sentence mean: \"Like families, tidy datasets are all alike but every messy dataset is messy in its own way.\" What does this sentence mean: \"For a given dataset, it’s usually easy to figure out what are observations and what are variables, but it is surprisingly difficult to precisely define variables and observations in general.\"\n",
        "  4. Read Section 2.2. How does Wickham define values, variables, and observations?\n",
        "  5. How is \"Tidy Data\" defined in section 2.3?\n",
        "  6. Read the intro to Section 3 and Section 3.1. What are the 5 most common problems with messy datasets? Why are the data in Table 4 messy? What is \"melting\" a dataset?\n",
        "  7. Why, specifically, is table 11 messy but table 12 tidy and \"molten\"?\n",
        "  8. Read Section 6. What is the \"chicken-and-egg\" problem with focusing on tidy data? What does Wickham hope happens in the future with further work on the subject of data wrangling?"
      ]
    },
    {
      "cell_type": "markdown",
      "source": [
        "FLAVIEN'S ANSWERS:\n",
        "1. This paper is about \"tidying\" data so that it is easier to manipulate later one.\n",
        "2. The \"tidy data standard\" is supposed to make analyzing data easier, and create a standard that data exploration tools treat easily.\n",
        "3. The metaphor about families means that tidy datasets all have the same attributes and have similar structures, but messy datasets all have their own unique problems. The sentence about ovservations and variables is saying that given the context of a dataset, it's easy to understand what the observations and variables are, but without that context, it's difficult to generalize what they are.\n",
        "4. He defines values as either qualitative or quantitative (strings or numbers). He defines a variable as containing all values with the same unit stemming from an attribute. He defines observations as containing all values with the same unit regardless across all attributes.\n",
        "5. He says that tidy data has 3 components: all variables are in columns, all observations are in rows, and every observational unit forms a table.\n",
        "6. The five most common problems with messey datasets are (1) values in the column header instead of names, (2) multiple variables in a single column, (3) variables as both rows and columns, (4) multiple types of observational units in the same table, and (5) multiple tables storing multiple observational units. The data in Table 4 is messy because it switched variables and observations. By \"melting\" the data, he means to turn the columns into rows.\n",
        "7. Table 11 is messy because every row is a month min or max, and every column is a day (and very few days actually have values). Table 12, on the other hand, it \"molten\" because every row is either day min or max and has a value.\n",
        "8. The \"chicken and the egg\" problem is that tidy data is contingent upon the availability of tools that can effectively work with it, and that the development of such tools depends on the existence and adoption of tidy data. Wickham hopes that in the future of data wrangling, methodologies from other fields, such as user-testing, ethnography, and talk-aloud protocols, will be incorporated, which will lead to a better understanding of human cognition of data analysis, and lead to an improvement of data analysis tools. Wickhan also anticipates that better data storage, new data formulations & more efficient tools will be created in the future ."
      ],
      "metadata": {
        "id": "0w1wcZoe0557"
      },
      "id": "0w1wcZoe0557"
    },
    {
      "cell_type": "markdown",
      "id": "da879ea7-8aac-48a3-b6c2-daea56d2e072",
      "metadata": {
        "id": "da879ea7-8aac-48a3-b6c2-daea56d2e072"
      },
      "source": [
        "**Q2.** This question provides some practice cleaning variables which have common problems.\n",
        "1. Numeric variable: For `./data/airbnb_hw.csv`, clean the `Price` variable as well as you can, and explain the choices you make. How many missing values do you end up with? (Hint: What happens to the formatting when a price goes over 999 dollars, say from 675 to 1,112?)\n",
        "2. Categorical variable: For the `./data/sharks.csv` data covered in the lecture, clean the \"Type\" variable as well as you can, and explain the choices you make.\n",
        "3. Dummy variable: For the pretrial data covered in the lecture, clean the `WhetherDefendantWasReleasedPretrial` variable as well as you can, and, in particular, replace missing values with `np.nan`.\n",
        "4. Missing values, not at random: For the pretrial data covered in the lecture, clean the `ImposedSentenceAllChargeInContactEvent` variable as well as you can, and explain the choices you make. (Hint: Look at the `SentenceTypeAllChargesAtConvictionInContactEvent` variable.)"
      ]
    },
    {
      "cell_type": "code",
      "source": [
        "! git clone https://github.com/FlavienS6/wrangling\n",
        "import pandas as pd\n",
        "\n",
        "#ANSWER TO NUMBER 1\n",
        "df = pd.read_csv('/content/wrangling/assignment/data/airbnb_hw.csv', low_memory=False)\n",
        "#finding out the dimensions of the data\n",
        "print(df.shape)\n",
        "#seeing a sample of the data\n",
        "df.head()\n",
        "#seeing all the unique prices & checking to see what type they are\n",
        "price = df['Price']\n",
        "print(price.unique())\n",
        "print(type(price[0]))\n",
        "#removing the comma from everything\n",
        "price = price.str.replace(',','')\n",
        "#converting everything to a number\n",
        "price = pd.to_numeric(price,errors='coerce')\n",
        "#printing out the result, checking their types, & seeing if there are any missing\n",
        "print(price.unique())\n",
        "print(type(price[0]))\n",
        "print(sum( price.isnull() ) )\n",
        "#(their type is \"numpy.int64\" and there are no missing values)"
      ],
      "metadata": {
        "id": "2r586tB8vZQ-",
        "outputId": "e4d9f274-56c8-4dbb-fdeb-fa5df4156730",
        "colab": {
          "base_uri": "https://localhost:8080/"
        }
      },
      "id": "2r586tB8vZQ-",
      "execution_count": 3,
      "outputs": [
        {
          "output_type": "stream",
          "name": "stdout",
          "text": [
            "Cloning into 'wrangling'...\n",
            "remote: Enumerating objects: 91, done.\u001b[K\n",
            "remote: Counting objects: 100% (52/52), done.\u001b[K\n",
            "remote: Compressing objects: 100% (38/38), done.\u001b[K\n",
            "remote: Total 91 (delta 39), reused 19 (delta 14), pack-reused 39\u001b[K\n",
            "Receiving objects: 100% (91/91), 6.26 MiB | 23.55 MiB/s, done.\n",
            "Resolving deltas: 100% (45/45), done.\n",
            "(30478, 13)\n",
            "['145' '37' '28' '199' '549' '149' '250' '90' '270' '290' '170' '59' '49'\n",
            " '68' '285' '75' '100' '150' '700' '125' '175' '40' '89' '95' '99' '499'\n",
            " '120' '79' '110' '180' '143' '230' '350' '135' '85' '60' '70' '55' '44'\n",
            " '200' '165' '115' '74' '84' '129' '50' '185' '80' '190' '140' '45' '65'\n",
            " '225' '600' '109' '1,990' '73' '240' '72' '105' '155' '160' '42' '132'\n",
            " '117' '295' '280' '159' '107' '69' '239' '220' '399' '130' '375' '585'\n",
            " '275' '139' '260' '35' '133' '300' '289' '179' '98' '195' '29' '27' '39'\n",
            " '249' '192' '142' '169' '1,000' '131' '138' '113' '122' '329' '101' '475'\n",
            " '238' '272' '308' '126' '235' '315' '248' '128' '56' '207' '450' '215'\n",
            " '210' '385' '445' '136' '247' '118' '77' '76' '92' '198' '205' '299'\n",
            " '222' '245' '104' '153' '349' '114' '320' '292' '226' '420' '500' '325'\n",
            " '307' '78' '265' '108' '123' '189' '32' '58' '86' '219' '800' '335' '63'\n",
            " '229' '425' '67' '87' '1,200' '158' '650' '234' '310' '695' '400' '166'\n",
            " '119' '62' '168' '340' '479' '43' '395' '144' '52' '47' '529' '187' '209'\n",
            " '233' '82' '269' '163' '172' '305' '156' '550' '435' '137' '124' '48'\n",
            " '279' '330' '5,000' '134' '378' '97' '277' '64' '193' '147' '186' '264'\n",
            " '30' '3,000' '112' '94' '379' '57' '415' '236' '410' '214' '88' '66' '71'\n",
            " '171' '157' '545' '1,500' '83' '96' '1,800' '81' '188' '380' '255' '505'\n",
            " '54' '33' '174' '93' '740' '640' '1,300' '440' '599' '357' '1,239' '495'\n",
            " '127' '5,999' '178' '348' '152' '242' '183' '253' '750' '259' '365' '273'\n",
            " '197' '397' '103' '389' '355' '559' '38' '203' '999' '141' '162' '333'\n",
            " '698' '46' '360' '895' '10' '41' '206' '281' '449' '388' '212' '102'\n",
            " '201' '2,750' '4,750' '432' '675' '167' '390' '298' '339' '194' '302'\n",
            " '211' '595' '191' '53' '361' '480' '8,000' '4,500' '459' '997' '345'\n",
            " '216' '218' '111' '735' '276' '91' '490' '850' '398' '36' '775' '267'\n",
            " '625' '336' '2,500' '176' '725' '3,750' '469' '106' '460' '287' '575'\n",
            " '227' '263' '25' '228' '208' '177' '880' '148' '116' '685' '470' '217'\n",
            " '164' '61' '645' '699' '405' '252' '319' '268' '419' '343' '525' '311'\n",
            " '840' '154' '294' '950' '409' '184' '257' '204' '241' '2,000' '412' '121'\n",
            " '288' '196' '900' '647' '524' '1,750' '309' '510' '1,495' '1,700' '799'\n",
            " '383' '372' '492' '327' '1,999' '656' '224' '173' '875' '1,170' '795'\n",
            " '690' '146' '465' '1,100' '151' '274' '429' '825' '282' '256' '1,111'\n",
            " '620' '271' '161' '51' '855' '579' '1,174' '430' '20' '899' '649' '485'\n",
            " '181' '455' '4,000' '243' '342' '590' '560' '374' '437' '232' '359' '985'\n",
            " '31' '244' '254' '723' '237' '428' '370' '34' '1,400' '580' '2,520' '221'\n",
            " '749' '1,600' '2,695' '306' '202' '680' '570' '520' '223' '2,295' '213'\n",
            " '1,065' '346' '24' '286' '296' '266' '26' '995' '1,368' '393' '182' '635'\n",
            " '258' '780' '589' '347' '1,250' '1,350' '446' '3,200' '1,050' '1,650'\n",
            " '1,550' '975' '323' '6,500' '2,499' '1,850' '2,250' '715' '461' '540'\n",
            " '356' '439' '384' '569' '1,900' '22' '785' '626' '830' '318' '444' '321'\n",
            " '401' '1,499' '888' '369' '770' '386' '366' '344' '630' '313' '597' '262'\n",
            " '509' '10,000' '278' '312' '789' '1,195' '422' '21' '765' '3,500' '945'\n",
            " '326' '3,100' '2,486' '3,390' '1,356' '2,599' '472' '454' '328' '396'\n",
            " '291']\n",
            "<class 'str'>\n",
            "[  145    37    28   199   549   149   250    90   270   290   170    59\n",
            "    49    68   285    75   100   150   700   125   175    40    89    95\n",
            "    99   499   120    79   110   180   143   230   350   135    85    60\n",
            "    70    55    44   200   165   115    74    84   129    50   185    80\n",
            "   190   140    45    65   225   600   109  1990    73   240    72   105\n",
            "   155   160    42   132   117   295   280   159   107    69   239   220\n",
            "   399   130   375   585   275   139   260    35   133   300   289   179\n",
            "    98   195    29    27    39   249   192   142   169  1000   131   138\n",
            "   113   122   329   101   475   238   272   308   126   235   315   248\n",
            "   128    56   207   450   215   210   385   445   136   247   118    77\n",
            "    76    92   198   205   299   222   245   104   153   349   114   320\n",
            "   292   226   420   500   325   307    78   265   108   123   189    32\n",
            "    58    86   219   800   335    63   229   425    67    87  1200   158\n",
            "   650   234   310   695   400   166   119    62   168   340   479    43\n",
            "   395   144    52    47   529   187   209   233    82   269   163   172\n",
            "   305   156   550   435   137   124    48   279   330  5000   134   378\n",
            "    97   277    64   193   147   186   264    30  3000   112    94   379\n",
            "    57   415   236   410   214    88    66    71   171   157   545  1500\n",
            "    83    96  1800    81   188   380   255   505    54    33   174    93\n",
            "   740   640  1300   440   599   357  1239   495   127  5999   178   348\n",
            "   152   242   183   253   750   259   365   273   197   397   103   389\n",
            "   355   559    38   203   999   141   162   333   698    46   360   895\n",
            "    10    41   206   281   449   388   212   102   201  2750  4750   432\n",
            "   675   167   390   298   339   194   302   211   595   191    53   361\n",
            "   480  8000  4500   459   997   345   216   218   111   735   276    91\n",
            "   490   850   398    36   775   267   625   336  2500   176   725  3750\n",
            "   469   106   460   287   575   227   263    25   228   208   177   880\n",
            "   148   116   685   470   217   164    61   645   699   405   252   319\n",
            "   268   419   343   525   311   840   154   294   950   409   184   257\n",
            "   204   241  2000   412   121   288   196   900   647   524  1750   309\n",
            "   510  1495  1700   799   383   372   492   327  1999   656   224   173\n",
            "   875  1170   795   690   146   465  1100   151   274   429   825   282\n",
            "   256  1111   620   271   161    51   855   579  1174   430    20   899\n",
            "   649   485   181   455  4000   243   342   590   560   374   437   232\n",
            "   359   985    31   244   254   723   237   428   370    34  1400   580\n",
            "  2520   221   749  1600  2695   306   202   680   570   520   223  2295\n",
            "   213  1065   346    24   286   296   266    26   995  1368   393   182\n",
            "   635   258   780   589   347  1250  1350   446  3200  1050  1650  1550\n",
            "   975   323  6500  2499  1850  2250   715   461   540   356   439   384\n",
            "   569  1900    22   785   626   830   318   444   321   401  1499   888\n",
            "   369   770   386   366   344   630   313   597   262   509 10000   278\n",
            "   312   789  1195   422    21   765  3500   945   326  3100  2486  3390\n",
            "  1356  2599   472   454   328   396   291]\n",
            "<class 'numpy.int64'>\n",
            "0\n"
          ]
        }
      ]
    },
    {
      "cell_type": "code",
      "source": [
        "#ANSWER TO QUESTION 2\n",
        "df2 = pd.read_csv('/content/wrangling/assignment/data/sharks.csv', low_memory=False)\n",
        "#finding out the dimensions of the data\n",
        "print(df2.shape)\n",
        "#seeing a sample of the data\n",
        "df2.head()\n",
        "#seeing all the unique prices & checking to see what type they are\n",
        "types = df2['Type']\n",
        "print(types.value_counts())\n",
        "#replacing all of the shark attacks involving sea vessels with \"boating\", because they all happen with some sort of boat\n",
        "types = types.replace(['Sea Disaster','Watercraft', 'Boat','Boating', \"Boatomg\"],'Boating')\n",
        "types.value_counts()\n",
        "#replacing all of the ones with miscellaneous types as \"unkown\", as there are no further details for any of these categories\n",
        "types = types.replace(['Invalid', 'Questionable','Unconfirmed','Unverified','Under investigation'], \"Unknown\")\n",
        "types.value_counts()\n",
        "#replacing types back into the dataframe\n",
        "df['Type'] = types\n",
        "df['Type'].value_counts()"
      ],
      "metadata": {
        "id": "OQSxiwfYyiov",
        "outputId": "a01ab3d2-67d1-4b5d-eb8c-ee3d5e0f3aa8",
        "colab": {
          "base_uri": "https://localhost:8080/"
        }
      },
      "id": "OQSxiwfYyiov",
      "execution_count": 23,
      "outputs": [
        {
          "output_type": "stream",
          "name": "stdout",
          "text": [
            "(6462, 257)\n",
            "Unprovoked             4716\n",
            "Provoked                593\n",
            "Invalid                 552\n",
            "Sea Disaster            239\n",
            "Watercraft              142\n",
            "Boat                    109\n",
            "Boating                  92\n",
            "Questionable             10\n",
            "Unconfirmed               1\n",
            "Unverified                1\n",
            "Under investigation       1\n",
            "Boatomg                   1\n",
            "Name: Type, dtype: int64\n"
          ]
        },
        {
          "output_type": "execute_result",
          "data": {
            "text/plain": [
              "Unprovoked    4716\n",
              "Provoked       593\n",
              "Boating        583\n",
              "Unknown        565\n",
              "Name: Type, dtype: int64"
            ]
          },
          "metadata": {},
          "execution_count": 23
        }
      ]
    },
    {
      "cell_type": "code",
      "source": [
        "#ANSWER TO QUESTION 3\n",
        "import numpy as np\n",
        "url = 'http://www.vcsc.virginia.gov/pretrialdataproject/October%202017%20Cohort_Virginia%20Pretrial%20Data%20Project_Deidentified%20FINAL%20Update_10272021.csv'\n",
        "df3 = pd.read_csv(url,low_memory=False)\n",
        "#finding out the dimensions of the data\n",
        "print(df3.shape)\n",
        "#seeing a sample of the data\n",
        "df3.head()\n",
        "released = df3['WhetherDefendantWasReleasedPretrial']\n",
        "#looking at the counts for each value: there's 1, 0, and 9 (9 is the misc. unkown, according to the document)\n",
        "released.value_counts()\n",
        "#replacing 9 with nan as the instructions say\n",
        "released = released.replace(9,np.nan)\n",
        "#checking to see updated counts\n",
        "print(released.value_counts())\n",
        "#finding the total number of nan (31)\n",
        "print(sum(released.isnull()))\n",
        "#inserting new values back into the dataset\n",
        "df3['WhetherDefendantWasReleasedPretrial'] = released"
      ],
      "metadata": {
        "id": "Gi26fPKY2LKE",
        "outputId": "216906f6-7066-4155-9d06-d43cb9bd5aae",
        "colab": {
          "base_uri": "https://localhost:8080/"
        }
      },
      "id": "Gi26fPKY2LKE",
      "execution_count": 22,
      "outputs": [
        {
          "output_type": "stream",
          "name": "stdout",
          "text": [
            "(22986, 709)\n",
            "1.0    19154\n",
            "0.0     3801\n",
            "Name: WhetherDefendantWasReleasedPretrial, dtype: int64\n",
            "31\n"
          ]
        }
      ]
    },
    {
      "cell_type": "code",
      "source": [
        "#ANSWER TO QUESTION 4\n",
        "sentence = df3['ImposedSentenceAllChargeInContactEvent']\n",
        "type = df3['SentenceTypeAllChargesAtConvictionInContactEvent']\n",
        "#looking a the frequency of each variable: can see 9053 blank balues\n",
        "#print(sentence.value_counts())\n",
        "#print(type.value_counts()) # we can see that there are 8000+ cat 4 & 200+ cat 9...\n",
        "\n",
        "# based on the pdf, category 4 means charges dismissed, and cat 9 is the misc. unknown\n",
        "sentence = sentence.mask( type == 4, 0) #if cat 4, then make imposed sentence 0\n",
        "sentence = sentence.mask( type == 9, np.nan) # if cat 9, then make it nan\n",
        "\n",
        "print(np.sum(sentence.isnull())) # can see that there are now 274 null values\n",
        "print(sentence.value_counts()) # we can confirm our little maneuver with cat 4 worked: there are a lot of 0s!\n",
        "#substitute the modified values back in\n",
        "df3['ImposedSentenceAllChargeInContactEvent'] = sentence"
      ],
      "metadata": {
        "id": "2pPtQYeu5mml",
        "outputId": "4666a0bd-3cf6-4253-ab5a-bd445ba74fc1",
        "colab": {
          "base_uri": "https://localhost:8080/"
        }
      },
      "id": "2pPtQYeu5mml",
      "execution_count": 35,
      "outputs": [
        {
          "output_type": "stream",
          "name": "stdout",
          "text": [
            "274\n",
            "0.000000     13732\n",
            "12.000000     1404\n",
            "0.985626      1051\n",
            "6.000000       809\n",
            "3.000000       787\n",
            "             ...  \n",
            "49.971253        1\n",
            "57.034908        1\n",
            "79.926078        1\n",
            "42.164271        1\n",
            "1.657084         1\n",
            "Name: ImposedSentenceAllChargeInContactEvent, Length: 483, dtype: int64\n"
          ]
        }
      ]
    },
    {
      "cell_type": "markdown",
      "id": "649494cd-cfd6-4f80-992a-9994fc19e1d5",
      "metadata": {
        "id": "649494cd-cfd6-4f80-992a-9994fc19e1d5"
      },
      "source": [
        "**Q3.** Many important datasets contain a race variable, typically limited to a handful of values often including Black, White, Asian, Latino, and Indigenous. This question looks at data gathering efforts on this variable by the U.S. Federal government.\n",
        "\n",
        "1. How did the most recent US Census gather data on race?\n",
        "2. Why do we gather these data? What role do these kinds of data play in politics and society? Why does data quality matter?\n",
        "3. Please provide a constructive criticism of how the Census was conducted: What was done well? What do you think was missing? How should future large scale surveys be adjusted to best reflect the diversity of the population? Could some of the Census' good practices be adopted more widely to gather richer and more useful data?\n",
        "4. How did the Census gather data on sex and gender? Please provide a similar constructive criticism of their practices.\n",
        "5. When it comes to cleaning data, what concerns do you have about protected characteristics like sex, gender, sexual identity, or race? What challenges can you imagine arising when there are missing values? What good or bad practices might people adopt, and why?\n",
        "6. Suppose someone invented an algorithm to impute values for protected characteristics like race, gender, sex, or sexuality. What kinds of concerns would you have?"
      ]
    }
  ],
  "metadata": {
    "colab": {
      "provenance": []
    },
    "kernelspec": {
      "display_name": "Python 3 (ipykernel)",
      "language": "python",
      "name": "python3"
    },
    "language_info": {
      "codemirror_mode": {
        "name": "ipython",
        "version": 3
      },
      "file_extension": ".py",
      "mimetype": "text/x-python",
      "name": "python",
      "nbconvert_exporter": "python",
      "pygments_lexer": "ipython3",
      "version": "3.10.4"
    }
  },
  "nbformat": 4,
  "nbformat_minor": 5
}